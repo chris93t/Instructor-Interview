{
 "cells": [
  {
   "cell_type": "markdown",
   "metadata": {},
   "source": [
    "# T test"
   ]
  },
  {
   "cell_type": "markdown",
   "metadata": {
    "collapsed": true
   },
   "source": [
    "In this unit, I will provide a simple explanation of what is a t-test. Specifically, how to perform hypothesis testing with a p-value obtained from a t-test. I will talk about the test power and how to interpret the results. This discussion is also related to precision and recall.\n",
    "\n",
    "In various explanations of a t-test, tutorials often choose to begin\n",
    "with a real-world application. In my opinion, this can be misleading.\n",
    "I choose to begin from a simple theoretical framework. Doing so will\n",
    "explain various implicit assumptions (for example, the existence of\n",
    "a data generating process) that are neglected in a real application\n",
    "but necessary in understanding the subject.\n",
    "\n",
    "Suppose a data generating process where numbers are generated from\n",
    "a normal distribution. The density of normal is given by:\n",
    "\n",
    "\\begin{align*}\n",
    "f(x|\\mu,\\sigma^{2}) & =\\frac{1}{\\sqrt{2\\pi\\sigma^{2}}}\\exp\\left(-\\frac{\\left(x-\\mu\\right)^{2}}{2\\sigma^{2}}\\right)\n",
    "\\end{align*}\n",
    "\n",
    "where, $\\mu = 1$ and $\\sigma^{2} = 1$"
   ]
  },
  {
   "cell_type": "code",
   "execution_count": 11,
   "metadata": {},
   "outputs": [
    {
     "name": "stdout",
     "output_type": "stream",
     "text": [
      "[-0.11976503  1.69133541  2.10420579  0.99091063  1.99561982 -0.77124923\n  2.90362901  0.98192434  0.79232235 -0.25324058 -0.87846258 -0.76024629\n  0.90918243  2.3521696   1.74099443]\n"
     ]
    }
   ],
   "source": [
    "import numpy as np\n",
    "from scipy.stats import t\n",
    "\n",
    "n = 15\n",
    "mu = 1\n",
    "sigma = np.sqrt(1)\n",
    "np.random.seed(seed=12154)\n",
    "X = np.random.normal(mu, sigma, n)  #draw 15 numbers from a random dist. with mean = 1 and variance = 1\n",
    "print(X)"
   ]
  },
  {
   "cell_type": "markdown",
   "metadata": {},
   "source": [
    "Suppose that I can only see the numbers generated above, but I am interested in learning something about the data generating process. Let's assume that I am interested in learning something about the true mean, $\\mu$. One popular way to learn something about the mean is through hypothesis testing. Specifically, I am interested in testing whether $\\mu = 1.5$. More concretely:\n",
    "\n",
    "\\begin{align*}\n",
    "H_{0}: & \\mu=1.5\\\\\n",
    "H_{1}: & \\mu\\neq1.5\n",
    "\\end{align*}\n",
    "\n",
    "From there, I can move to constructing what is known as the t-statistic:\n",
    "\n",
    "\\begin{align*}\n",
    "t & =\\frac{\\left(\\bar{X}-\\tilde{\\mu}\\right)}{\\left(\\hat{\\sigma}(X)/\\sqrt{n}\\right)}\n",
    "\\end{align*}\n",
    "\n",
    "where, $\\bar{X}$ is the sample mean of my data, $\\tilde{\\mu}$ is\n",
    "my hypothesized mean, $\\hat{\\sigma}(X)$ is the standard deviation of\n",
    "my data, and $n$ is the number of observations (namely, 15). \n"
   ]
  },
  {
   "cell_type": "code",
   "execution_count": 12,
   "metadata": {},
   "outputs": [
    {
     "name": "stdout",
     "output_type": "stream",
     "text": [
      "-1.9150894216814496\n"
     ]
    }
   ],
   "source": [
    "mu_telda = 1.5\n",
    "tvalue =  (np.mean(X)- mu_telda)/(np.std(X)/np.sqrt(n))\n",
    "print(tvalue)"
   ]
  },
  {
   "cell_type": "markdown",
   "metadata": {},
   "source": [
    "The t-statistic represents the deviation of the sample mean from the hypothesized mean. If my hypothesized mean is equal to the true mean, then I should expect my t-statistic to approach zero. Since the t-statistic is only a single draw, I can't use it alone to make judgements. I must then find a way to examine the t-statistic as a single component of a larger distribution. We will do this next. Imagine the following thought process: I draw 15 numbers from the normal above an infinite number of times. Then, I use the infinite number of t's to draw a distribution. Mathematically speaking, since the numbers are drawn from normal, the resulting distribution from the infinite t's will be a t-distribution (hence, a t-test) with $n-1$ degrees of freedom. "
   ]
  },
  {
   "cell_type": "code",
   "execution_count": 13,
   "metadata": {},
   "outputs": [
    {
     "data": {
      "image/png": "[encoded data removed]",
      "text/plain": [
       "<matplotlib.figure.Figure at 0x286ecea72e8>"
      ]
     },
     "metadata": {},
     "output_type": "display_data"
    }
   ],
   "source": [
    "import matplotlib.pyplot as plt\n",
    "%matplotlib inline\n",
    "\n",
    "dfreedom = n - 1\n",
    "TDist = t(df=dfreedom, loc=0, scale=1)\n",
    "x = np.linspace(TDist.ppf(0.0001), TDist.ppf(0.9999), 100) #T-value for percentages between 0% and 100%\n",
    "y = TDist.pdf(x)\n",
    "\n",
    "plt.xlim(np.min(x)-.1,np.max(x)+.1)\n",
    "plt.ylim(0,np.max(y)+.01)\n",
    "plt.plot(x,y)\n",
    "plt.margins(x=0, y= 0)"
   ]
  },
  {
   "cell_type": "markdown",
   "metadata": {},
   "source": [
    "Having done that, now I can think of my t-statistic as a single draw from the above t-distribution"
   ]
  },
  {
   "cell_type": "code",
   "execution_count": 14,
   "metadata": {
    "collapsed": false
   },
   "outputs": [
    {
     "data": {
      "image/png": "[encoded data removed]",
      "text/plain": [
       "<matplotlib.figure.Figure at 0x286ecf3ea20>"
      ]
     },
     "metadata": {},
     "output_type": "display_data"
    }
   ],
   "source": [
    "plt.xlim(np.min(x)-.1,np.max(x)+.1);\n",
    "plt.ylim(0,np.max(y)+.01);\n",
    "plt.plot(x,y);\n",
    "plt.margins(x=0, y= 0);\n",
    "plt.axvline(x=tvalue, color = 'red', linestyle = '--');\n"
   ]
  },
  {
   "cell_type": "markdown",
   "metadata": {},
   "source": [
    "Looking back at my hypothesis, I am interested in testing if the true mean is equal to 1.5. Statistically, the question can be reframed as follows: what is the probability of deviating from my hypothesized mean (getting a t-value) to a degree equal to or more extreme than my current deviation (my t-value)? This is known as a two-tailed p-value and can be written as follows:\n",
    "\n",
    "\\begin{align*}\n",
    "p= & 2*Prob\\left(T>|t|\\right)\\\\\n",
    "= & 2*\\left\\{ Prob\\left(T>t\\right)\\text{ or }Prob\\left(T<-t\\right)\\right\\} \n",
    "\\end{align*}\n",
    "\n",
    "Since the t-distribution is symmetric, I can find the probability of getting one extreme and multiply it by two. To find one probability, I can simply look at one minus the probability from the cumulative t-distribution for my t-value. This can be easily looked up using Python "
   ]
  },
  {
   "cell_type": "code",
   "execution_count": 15,
   "metadata": {},
   "outputs": [
    {
     "name": "stdout",
     "output_type": "stream",
     "text": [
      "Probability for one tail:   0.038\nP-value:   0.076\n"
     ]
    }
   ],
   "source": [
    "pvalue_onetail = t.sf(np.abs(tvalue), dfreedom) #1 - cdf of t\n",
    "pvalue = 2*pvalue_onetail\n",
    "print('Probability for one tail:  ',round(pvalue_onetail,3))\n",
    "print('P-value:  ',round(pvalue,3))"
   ]
  },
  {
   "cell_type": "code",
   "execution_count": 16,
   "metadata": {},
   "outputs": [
    {
     "data": {
      "image/png": "[encoded data removed]",
      "text/plain": [
       "<matplotlib.figure.Figure at 0x286edf7bef0>"
      ]
     },
     "metadata": {},
     "output_type": "display_data"
    }
   ],
   "source": [
    "#I can graph the P-value\n",
    "plt.xlim(np.min(x)-.1,np.max(x)+.1);\n",
    "plt.ylim(0,np.max(y)+.01);\n",
    "plt.plot(x,y);\n",
    "plt.margins(x=0, y= 0);\n",
    "plt.axvline(x=tvalue, color = 'red', linestyle = '--');\n",
    "plt.fill_between(x[x<tvalue], y[x<tvalue], facecolor='darkred', alpha=0.5); #Values less likely from one tail\n",
    "plt.fill_between(x[x>-tvalue], y[x>-tvalue], facecolor='darkred', alpha=0.5); #Values less likely from the other tail\n",
    "\n",
    "\n",
    "Value = np.round(pvalue_onetail,3)\n",
    "Arrow_x_scaler = np.abs(tvalue)+.6\n",
    "text_x_scaler = np.abs(tvalue)+.8\n",
    "\n",
    "Arr_y_scaler = pvalue_onetail-.01\n",
    "Text_y_scaler = pvalue_onetail+.02\n",
    "\n",
    "\n",
    "plt.annotate(Value, xy=(Arrow_x_scaler, Arr_y_scaler), xytext=(text_x_scaler,Text_y_scaler),\n",
    "            arrowprops=dict(facecolor='black', arrowstyle=\"->\"),\n",
    "            );\n",
    "\n",
    "plt.annotate(Value, xy=(-1*Arrow_x_scaler, Arr_y_scaler), xytext=(-1*text_x_scaler-.5, Text_y_scaler),\n",
    "            arrowprops=dict(facecolor='black', arrowstyle=\"->\"),\n",
    "            );"
   ]
  },
  {
   "cell_type": "markdown",
   "metadata": {},
   "source": [
    "#### It is important to keep in mind two assumptions that make this calculation possible:\n",
    "<ol>\n",
    "  <li>Sample is drawn at random: otherwise we can't use a distribution </li>\n",
    "  <li>Sample is drawn from normal for a small sample. For a large sample, central limit theorem makes it matter less. </li>\n",
    "</ol> "
   ]
  },
  {
   "cell_type": "markdown",
   "metadata": {},
   "source": [
    "#### Type I and Type II Errors\n",
    "\n",
    "The smaller the p-value then the less likely that my hypothesis of $\\mu = 1.5$ to be true. However, I want to make a final decision of whether $\\mu = 1.5$  or not. This is often called \"rejecting the null.\" The latter is a final decision made by the researcher claiming that the hypothesis is not true. To make that decision, a researcher selects a value, $\\alpha$ , often between 0.01 and 0.1. If the p-value is less than the alpha then the null can be rejected. The choice of $\\alpha$ often depends on the field of research. For this example, I will select an  $\\alpha = .05$. Given a p-value of .076 then I fail to reject the null. In other words, I decide that $\\mu = 1.5$. This is wrong, and it is called a Type I error. \n",
    "\n",
    "\n",
    "|                                |        Truth: $\\mu=1.5$       |      Truth: $\\mu\\neq1.5$     |\n",
    "|:------------------------------:|:-----------------------------:|:----------------------------:|\n",
    "| **Fail to Reject Null:** $\\mu=1.5$ |            Correct            | Type I Error: False Positive |\n",
    "|   **Reject Null:**  $\\mu\\neq1.5$   | Type II Error: False Negative |            Correct           |\n",
    "\n",
    "\n",
    "#### Precision and Recall\n",
    "\n",
    "In machine learning, more specifically classification models, precision\n",
    "and recall are two measures used to evaluate accuracy. It turns out that the discussion with regards to type I and type II errors is related to precision and recall. Suppose that there is a model that takes pictures as inputs\n",
    "and classifies them as being cat pictures or not. For a single image:\n",
    "\n",
    "|                     |           Truth: Cat          |        Truth: not Cat        |\n",
    "|:-------------------:|:-----------------------------:|:----------------------------:|\n",
    "|   **Classifier: Cat**   |            Correct            | Type I Error: False Positive |\n",
    "| **Classifier: Not Cat** | Type II Error: False Negative |            Correct           |\n",
    "\n",
    "\n",
    "\n",
    "\n",
    "\n",
    "\n",
    "Based on that information:\n",
    "\n",
    "\\begin{align*}\n",
    "\\text{Precision}= & \\frac{\\text{True Positives}}{\\text{True Positives}+\\text{False Positives}}\\\\\n",
    "\\\\\n",
    "\\text{Recall}= & \\frac{\\text{True Positives}}{\\text{True Positives}+\\text{False Negatives}}\n",
    "\\end{align*}\n",
    "\n",
    "Intuitively, precision examines accuracy of retrieved information,\n",
    "while recall looks at how well does the model retrieve information\n",
    "over the entire sample. Both measures are often combined in a single\n",
    "measure, for example $F-score$, to assess overall accuracy of the\n",
    "model. \n",
    "\n"
   ]
  },
  {
   "cell_type": "code",
   "execution_count": null,
   "metadata": {},
   "outputs": [],
   "source": []
  }
 ],
 "metadata": {
  "kernelspec": {
   "display_name": "Python 3",
   "language": "python",
   "name": "python3"
  },
  "language_info": {
   "codemirror_mode": {
    "name": "ipython",
    "version": 3
   },
   "file_extension": ".py",
   "mimetype": "text/x-python",
   "name": "python",
   "nbconvert_exporter": "python",
   "pygments_lexer": "ipython3",
   "version": "3.6.4"
  }
 },
 "nbformat": 4,
 "nbformat_minor": 1
}
