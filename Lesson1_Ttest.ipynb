{
 "cells": [
  {
   "cell_type": "markdown",
   "metadata": {},
   "source": [
    "# T test"
   ]
  },
  {
   "cell_type": "markdown",
   "metadata": {
    "collapsed": true
   },
   "source": [
    "In this unit, I will provide a simple explanation of what is a t-test. Specifically, how to perform hypothesis testing with a p-value obtained from a t-test. I will talk about the test power and how to interpret the results. This discussion is alsorelated to precision and recall.\n",
    "In various explanations of a t-test, tutorials often choose to begin\n",
    "with a real-world application. In my opinion, this can be misleading.\n",
    "I choose to begin from a simple theoretical framework. Doing so will\n",
    "explain various implicit assumptions (for example, the existence of\n",
    "a data generating process) that are neglected in a real application\n",
    "but necessary in understanding the subject.\n",
    "\n",
    "Suppose a data generating process where numbers are generated from\n",
    "a normal distribution. The density of normal is given by:\n",
    "\n",
    "\\begin{align*}\n",
    "f(x|\\mu,\\sigma^{2}) & =\\frac{1}{\\sqrt{2\\pi\\sigma^{2}}}\\exp\\left(-\\frac{\\left(x-\\mu\\right)^{2}}{2\\sigma^{2}}\\right)\n",
    "\\end{align*}\n",
    "\n",
    "Suppose that $\\mu$ ,often referred to as the true mean, equals $1$\n",
    "and $\\sigma^{2}$ , the true variance, is equal to $1$."
   ]
  },
  {
   "cell_type": "code",
   "execution_count": 2,
   "metadata": {},
   "outputs": [
    {
     "name": "stdout",
     "output_type": "stream",
     "text": [
      "[-0.11976503  1.69133541  2.10420579  0.99091063  1.99561982 -0.77124923\n  2.90362901  0.98192434  0.79232235 -0.25324058 -0.87846258 -0.76024629\n  0.90918243  2.3521696   1.74099443]\n"
     ]
    }
   ],
   "source": [
    "import numpy as np\n",
    "from scipy.stats import t\n",
    "\n",
    "n = 15\n",
    "mu = 1\n",
    "sigma = np.sqrt(1)\n",
    "np.random.seed(seed=12154)\n",
    "X = np.random.normal(mu, sigma, n)  #draw 15 numbers from a random dist. with mean = 1 and variance = 1\n",
    "print(X)"
   ]
  },
  {
   "cell_type": "markdown",
   "metadata": {},
   "source": [
    "Suppose that I can only see the numbers generated above, but I am interested in learning something about the true data generating process. Let's assume that I am interested in learning something about the true mean, $\\mu$. One popular way to learn something about the mean is through hypothesis testing. Specifically, I am interested in testing whether $\\mu = 1.5$. I can rewrite this more concretely as:\n",
    "\\begin{align*}\n",
    "H_{0}: & \\mu=1.5\\\\\n",
    "H_{1}: & \\mu\\neq1.5\n",
    "\\end{align*}\n",
    "From there, I can move to constructing what is known as the t-statistic:\n",
    "\\begin{align*}\n",
    "t & =\\frac{\\left(\\bar{X}-\\tilde{\\mu}\\right)}{\\left(\\hat{\\sigma}(X)/\\sqrt{n}\\right)}\n",
    "\\end{align*}\n",
    "where, $\\bar{X}$ is the sample mean of my data, $\\tilde{\\mu}$ is\n",
    "my hypothesized true mean, $\\hat{\\sigma}(X)$ is the standard deviation of\n",
    "my data, and $n$ is the number of observations (namely, 15). \n"
   ]
  },
  {
   "cell_type": "code",
   "execution_count": null,
   "metadata": {},
   "outputs": [],
   "source": [
    "mu_telda = 1.5\n",
    "tvalue =  (np.mean(X)- mu_telda)/(np.std(X)/np.sqrt(n))\n",
    "print(tvalue)"
   ]
  },
  {
   "cell_type": "markdown",
   "metadata": {},
   "source": [
    "To understand the t-statistic and the what follows, imagine the following thought process: I draw 15 numbers from the normal above an infinite number of times. Then, I use the infinite number of t's to draw a dististribution. Mathematically speaking, since the numbers are drawn from normal, the resulting distribution from the infinite t's will be a t-distribution (hence, a t-test) with $n-1$ degrees of freedom. "
   ]
  },
  {
   "cell_type": "code",
   "execution_count": 7,
   "metadata": {
    "collapsed": true
   },
   "outputs": [
    {
     "data": {
      "image/png": "[encoded data removed]",
      "text/plain": [
       "<matplotlib.figure.Figure at 0x27d962a5cf8>"
      ]
     },
     "metadata": {},
     "output_type": "display_data"
    }
   ],
   "source": [
    "import matplotlib.pyplot as plt\n",
    "%matplotlib inline\n",
    "\n",
    "dfreedom = n - 1\n",
    "TDist = t(df=dfreedom, loc=0, scale=1)\n",
    "x = np.linspace(TDist.ppf(0.0001), TDist.ppf(0.9999), 100) #T-value for percentages between 0% and 100%\n",
    "y = TDist.pdf(x)\n",
    "\n",
    "plt.xlim(np.min(x)-.1,np.max(x)+.1)\n",
    "plt.ylim(0,np.max(y)+.01)\n",
    "plt.plot(x,y)\n",
    "plt.margins(x=0, y= 0)"
   ]
  },
  {
   "cell_type": "code",
   "execution_count": null,
   "metadata": {},
   "outputs": [],
   "source": []
  }
 ],
 "metadata": {
  "kernelspec": {
   "display_name": "Python 2",
   "language": "python",
   "name": "python2"
  },
  "language_info": {
   "codemirror_mode": {
    "name": "ipython",
    "version": 2
   },
   "file_extension": ".py",
   "mimetype": "text/x-python",
   "name": "python",
   "nbconvert_exporter": "python",
   "pygments_lexer": "ipython2",
   "version": "2.7.6"
  }
 },
 "nbformat": 4,
 "nbformat_minor": 0
}
