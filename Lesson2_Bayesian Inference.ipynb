{
 "cells": [
  {
   "cell_type": "markdown",
   "metadata": {
    "collapsed": true
   },
   "source": [
    "# Bayesian Inference"
   ]
  },
  {
   "cell_type": "markdown",
   "metadata": {},
   "source": [
    "In this unit, I will discuss Bayesian posterior inference. I will\n",
    "explain Bayes rule, and explain how it can be used in data applications.\n",
    "Then, using data generated from a normal distribution, I will demonstrate\n",
    "how to use Bayes rule to calculate a posterior distribution of the mean. Main assumptions are listed at the end.\n",
    "\n",
    "Derived from statistical theory, Bayes rule is given by:\n",
    "\n",
    "\\begin{align*}\n",
    "Pr(A|B)= & \\frac{Pr(B|A)Pr(A)}{Pr(B)}\n",
    "\\end{align*}\n",
    "\n",
    "$Pr(A|B)$ is called the conditional probability of $A$ given $B$.\n",
    "Suppose two random events $A$ and $B$. The rule states that if event\n",
    "$B$ happened, I can calculate the probability of $A$ , $Pr(A|B)$\n",
    ", happening as follows: I multiply probability of $A$ happening given\n",
    "that $B$ happened, $Pr(B|A)$, with the probability of event $A$\n",
    "happening in general, $Pr(A)$. I divide the multiplication of both\n",
    "terms by the probability of $B$ happening in general, $Pr(B)$. Bayes\n",
    "rule seems abstract at first, but it can be useful if I am interested\n",
    "in knowing $Pr(A|B)$, and I already have information on $Pr(A|B)$,\n",
    "$Pr(A)$, and $Pr(B)$. "
   ]
  },
  {
   "cell_type": "markdown",
   "metadata": {},
   "source": [
    "Similar to the previous unit, suppose, $X=\\left\\{ x_{1},x_{2},x_{3},\\ldots,x_{15}\\right\\} $,\n",
    "is data of $15$ observations generated from a normal distribution\n",
    "with mean $1$ and variance $1$:\n",
    "\n",
    "\\begin{align*}\n",
    "X\\sim & \\boldsymbol{N}(\\mu=1,\\sigma^{2}=1)\n",
    "\\end{align*}\n",
    "\n",
    "As a researcher, I am interested in knowing something about the unknown\n",
    "data generating process. In the previous unit, I was interested in\n",
    "hypothesis testing. I was interested in knowing if my mean\n",
    "is (un)equal to a hypothesized value. Instead of testing one hypothesis, \n",
    " I may be interested in learning something more general about possible values of $\\mu$.  This can be done with Bayes rule. \n",
    "The method allows me to construct the distribution\n",
    "of $\\mu$ given observed data, $X$. The latter is precisely, $Pr(\\mu|X)$,\n",
    "and can be expressed with Bayes rule as follows:\n",
    "\n",
    "\\begin{align*}\n",
    "Pr(\\mu|X)= & \\frac{Pr(X|\\mu)Pr(\\mu)}{Pr(X)}\n",
    "\\end{align*}\n",
    "\n",
    "where,\n",
    "\n",
    "$Pr(\\mu|X)$ is the posterior and what Bayes rule will ultimately\n",
    "answer. What is the distribution of $\\mu$ given the drawn data, $X$\n",
    "\n",
    "$Pr(\\mu)$ is the prior. It is the distribution of $\\mu$ independent\n",
    "of any event. Here, we assume $\\mu\\sim\\boldsymbol{N}(\\mu_{0}=1,v_{0}^{2}=1)$\n",
    "\n",
    "$Pr(X|\\mu)$ what is known as the log-likelihood function goes here.\n",
    "What is the probability of obtaining $X$ given a certain mean, $\\mu$.\n",
    "\n",
    "$Pr(X)$ what is the probability of obtaining $X$ for all possible\n",
    "values of $\\mu$. Integrated in practice over all values of $\\mu$,\n",
    "the term does not depend on the parameters of the models. It is a\n",
    "convention to drop it for simplicity. \n",
    "\n",
    "\\begin{align*}\n",
    "Pr(\\mu|X)\\propto & Pr(X|\\mu)Pr(\\mu)\n",
    "\\end{align*}\n",
    "\n",
    "For simplicity, it is known that $X$ comes from normal with unknown\n",
    "$\\mu$ but known $\\sigma^{2}$. The above more concretely becomes,\n",
    "\n",
    "\\begin{align*}\n",
    "\\xi\\left(\\mu|X\\right)\\propto & f_{n}\\left(X|\\mu\\right)\\xi\\left(\\mu\\right)\n",
    "\\end{align*}\n",
    "\n",
    "where,\n",
    "\n",
    "\\begin{align*}\n",
    "f_{n}\\left(X|\\mu\\right)\\propto & \\exp\\left(\\frac{-1}{2\\sigma^{2}}\\sum_{i=1}^{n}\\left(x_{i}-\\mu\\right)^{2}\\right)\\\\\n",
    "\\\\\n",
    "\\xi\\left(\\mu\\right)\\propto & \\exp\\left(-\\frac{\\left(\\mu-\\mu_{0}\\right)^{2}}{2v_{0}^{2}}\\right)\n",
    "\\end{align*}\n",
    "\n",
    "Given the above, it turns out that,\n",
    "\n",
    "\\begin{align*}\n",
    "\\xi\\left(\\mu|X\\right)\\sim & \\boldsymbol{N}(\\mu_{1},v_{1}^{2})\n",
    "\\end{align*}\n",
    "\n",
    "where,\n",
    "\n",
    "\\begin{align*}\n",
    "\\mu_{1}= & \\frac{\\sigma^{2}\\mu_{0}+nv_{0}^{2}\\bar{x}_{n}}{\\sigma^{2}+nv_{0}^{2}}\\\\\n",
    "\\\\\n",
    "v_{1}^{2}= & \\frac{\\sigma^{2}v_{0}^{2}}{\\sigma^{2}+nv_{0}^{2}}\n",
    "\\end{align*}\n",
    "\n",
    "\n",
    "This can be proved by multiplying $f_{n}\\left(X|\\mu\\right)$ and $\\xi\\left(\\mu\\right)$\n",
    "then substituting in the result. The specific choice of a normal prior\n",
    "makes it conjugate to the normal likelihood function. A conjugate\n",
    "prior ensures a closed solution result with the same family of the\n",
    "prior, namely normal. In more complex applications, a closed form\n",
    "solution is not possible. With the theory on-hand, I will go ahead\n",
    "and demonstrate the example numerically.\n"
   ]
  },
  {
   "cell_type": "code",
   "execution_count": 2,
   "metadata": {},
   "outputs": [],
   "source": [
    "import numpy as np\n",
    "from scipy.stats import norm\n",
    "import matplotlib.pyplot as plt\n",
    "import seaborn as sns\n",
    "from IPython.display import display\n",
    "\n",
    "\n",
    "n = 15  #number of observations\n",
    "mu = 1 #True mean\n",
    "sigmasquare = 1 #True variance\n",
    "sigma = np.sqrt(sigmasquare)\n",
    "prior_mu = 0 #Prior Mean\n",
    "prior_variance = 1 #Prior Variance\n",
    "\n",
    "class posterior():\n",
    "    def __init__(self,obs=n): #Initialize\n",
    "        #Given Variables\n",
    "        self.n=obs\n",
    "        self.mu=mu\n",
    "        self.sigmasquare = sigmasquare\n",
    "        self.sigma = sigma\n",
    "        self.prior_mu=prior_mu\n",
    "        self.prior_variance=prior_variance\n",
    "\n",
    "        #Calculated Variables\n",
    "        self.X=0\n",
    "        self.posterior_mu=0\n",
    "        self.posterior_var=0\n",
    "\n",
    "\n",
    "    def random_generate(self): #Generate random data\n",
    "        np.random.seed(seed=12154) #set seed\n",
    "        self.X = np.random.normal(self.mu, self.sigma, self.n)\n",
    "        #self.X=5\n",
    "        return self.X\n",
    "\n",
    "    def histo_graph(self):  #Plot Data to see what it look like\n",
    "        plt.hist(self.X, bins=5, density=True)\n",
    "        sns.kdeplot(self.X)\n",
    "\n",
    "    def computeandgraph(self):  #Calculate Posterior parameters\n",
    "        n = self.X.shape[0]\n",
    "        self.posterior_mu = ((self.sigmasquare) * self.prior_mu + n * self.prior_variance * np.mean(self.X)) / (self.sigmasquare + n * self.prior_variance)\n",
    "        self.posterior_var = (self.sigmasquare * self.prior_variance) / (self.sigmasquare + (n * self.prior_variance))\n",
    "        postdist = norm(loc=self.posterior_mu, scale=self.posterior_var)\n",
    "        x = np.linspace(0, 1.2, 1000)\n",
    "        plt.plot(x, postdist.pdf(x), 'r-', alpha=0.6, label='norm pdf');\n",
    "        plt.gca().axes.get_yaxis().set_visible(False);\n",
    "        return (round(self.posterior_mu,3), round(self.posterior_var,3))\n",
    "       \n",
    "\n"
   ]
  },
  {
   "cell_type": "code",
   "execution_count": 3,
   "metadata": {},
   "outputs": [
    {
     "data": {
      "text/plain": [
       "array([-0.11976503,  1.69133541,  2.10420579,  0.99091063,  1.99561982,\n       -0.77124923,  2.90362901,  0.98192434,  0.79232235, -0.25324058,\n       -0.87846258, -0.76024629,  0.90918243,  2.3521696 ,  1.74099443])"
      ]
     },
     "execution_count": 3,
     "metadata": {},
     "output_type": "execute_result"
    }
   ],
   "source": [
    "#Generate data from normal\n",
    "Posterior_1 = posterior()\n",
    "Posterior_1.random_generate()"
   ]
  },
  {
   "cell_type": "code",
   "execution_count": 4,
   "metadata": {},
   "outputs": [
    {
     "data": {
      "image/png": "[encoded data removed]",
      "text/plain": [
       "<matplotlib.figure.Figure at 0x14916279828>"
      ]
     },
     "metadata": {},
     "output_type": "display_data"
    }
   ],
   "source": [
    "#Visualize the distribution of X\n",
    "Posterior_1.histo_graph()"
   ]
  },
  {
   "cell_type": "code",
   "execution_count": 5,
   "metadata": {},
   "outputs": [
    {
     "data": {
      "text/plain": [
       "(0.855, 0.062)"
      ]
     },
     "execution_count": 5,
     "metadata": {},
     "output_type": "execute_result"
    },
    {
     "data": {
      "image/png": "[encoded data removed]",
      "text/plain": [
       "<matplotlib.figure.Figure at 0x14916346128>"
      ]
     },
     "metadata": {},
     "output_type": "display_data"
    }
   ],
   "source": [
    "#Compute posterior parameters and graph for n=15\n",
    "Posterior_1.computeandgraph()\n"
   ]
  },
  {
   "cell_type": "code",
   "execution_count": 6,
   "metadata": {},
   "outputs": [
    {
     "data": {
      "text/plain": [
       "(0.994, 0.003)"
      ]
     },
     "execution_count": 6,
     "metadata": {},
     "output_type": "execute_result"
    },
    {
     "data": {
      "image/png": "[encoded data removed]",
      "text/plain": [
       "<matplotlib.figure.Figure at 0x14916350438>"
      ]
     },
     "metadata": {},
     "output_type": "display_data"
    }
   ],
   "source": [
    "#Using a larger N gets distribution closer to true mean, but variance shrinks a lot\n",
    "Posterior_largesample = posterior(obs=300)\n",
    "Posterior_largesample.random_generate()\n",
    "Posterior_largesample.computeandgraph()"
   ]
  },
  {
   "cell_type": "markdown",
   "metadata": {},
   "source": [
    "### Bayesian Inference and Hypothesis Testing\n",
    "\n",
    "The two graphs above show the posterior distribution. In other words, they show the probability of obtaining different values of $\\mu$ given the data that is being observed. Similar to hypothesis testing, the posterior distribution is a statement about the population (as opposed to just the sample). The major difference between t-testing and bayesian inference is the approach. Hypothesis testing begins with a hypothesis ,theoratically outside of the model, and then uses the sample to make a statment with regards to the hypothesis (reject or fail to reject). The knowledge obtained from the hypothesis test does not go beyond the hypothesis. The bayesian approach provides a more general description of $\\mu$ through the posterior distribution. It is; however, important to keep in mind drawbacks for this method as well. "
   ]
  },
  {
   "cell_type": "markdown",
   "metadata": {},
   "source": [
    "### Assumptions of Bayesian Inference\n",
    "\n",
    "<ol>\n",
    "  <li> Simplifying assumptions (can be relaxed) </li>\n",
    "  <li> Choice of prior </li>\n",
    "</ol> "
   ]
  },
  {
   "cell_type": "code",
   "execution_count": null,
   "metadata": {},
   "outputs": [],
   "source": []
  }
 ],
 "metadata": {
  "kernelspec": {
   "display_name": "Python 2",
   "language": "python",
   "name": "python2"
  },
  "language_info": {
   "codemirror_mode": {
    "name": "ipython",
    "version": 2
   },
   "file_extension": ".py",
   "mimetype": "text/x-python",
   "name": "python",
   "nbconvert_exporter": "python",
   "pygments_lexer": "ipython2",
   "version": "2.7.6"
  }
 },
 "nbformat": 4,
 "nbformat_minor": 0
}
